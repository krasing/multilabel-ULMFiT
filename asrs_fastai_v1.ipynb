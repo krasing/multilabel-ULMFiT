{
 "cells": [
  {
   "cell_type": "markdown",
   "metadata": {},
   "source": [
    "# Multilable text classification with fastai v1"
   ]
  },
  {
   "cell_type": "code",
   "execution_count": 1,
   "metadata": {},
   "outputs": [],
   "source": [
    "%reload_ext autoreload\n",
    "%autoreload 2\n",
    "%matplotlib inline"
   ]
  },
  {
   "cell_type": "code",
   "execution_count": 2,
   "metadata": {},
   "outputs": [],
   "source": [
    "from fastai import *\n",
    "from fastai.text import *"
   ]
  },
  {
   "cell_type": "code",
   "execution_count": 3,
   "metadata": {},
   "outputs": [],
   "source": [
    "path = Path('data')"
   ]
  },
  {
   "cell_type": "markdown",
   "metadata": {},
   "source": [
    "## Prepare dataframe"
   ]
  },
  {
   "cell_type": "code",
   "execution_count": 4,
   "metadata": {
    "scrolled": true
   },
   "outputs": [
    {
     "data": {
      "text/html": [
       "<div>\n",
       "<table border=\"1\" class=\"dataframe\">\n",
       "  <thead>\n",
       "    <tr style=\"text-align: right;\">\n",
       "      <th></th>\n",
       "      <th>ACN</th>\n",
       "      <th>Date</th>\n",
       "      <th>Local Time Of Day</th>\n",
       "      <th>Locale Reference</th>\n",
       "      <th>State Reference</th>\n",
       "      <th>Relative Position.Angle.Radial</th>\n",
       "      <th>Relative Position.Distance.Nautical Miles</th>\n",
       "      <th>Altitude.AGL.Single Value</th>\n",
       "      <th>Altitude.MSL.Single Value</th>\n",
       "      <th>Flight Conditions</th>\n",
       "      <th>...</th>\n",
       "      <th>When Detected</th>\n",
       "      <th>Result</th>\n",
       "      <th>Contributing Factors / Situations</th>\n",
       "      <th>Primary Problem</th>\n",
       "      <th>Narrative</th>\n",
       "      <th>Callback</th>\n",
       "      <th>Narrative.1</th>\n",
       "      <th>Callback.1</th>\n",
       "      <th>Synopsis</th>\n",
       "      <th>Unnamed: 96</th>\n",
       "    </tr>\n",
       "  </thead>\n",
       "  <tbody>\n",
       "    <tr>\n",
       "      <th>0</th>\n",
       "      <td>925545</td>\n",
       "      <td>201101</td>\n",
       "      <td>0001-0600</td>\n",
       "      <td>ZNY.ARTCC</td>\n",
       "      <td>NY</td>\n",
       "      <td>NaN</td>\n",
       "      <td>NaN</td>\n",
       "      <td>NaN</td>\n",
       "      <td>19000.0</td>\n",
       "      <td>NaN</td>\n",
       "      <td>...</td>\n",
       "      <td>NaN</td>\n",
       "      <td>Air Traffic Control Issued New Clearance</td>\n",
       "      <td>Aircraft; Equipment / Tooling; Human Factors</td>\n",
       "      <td>Human Factors</td>\n",
       "      <td>[I was] working air carrier 1 at FL190. Sector...</td>\n",
       "      <td>NaN</td>\n",
       "      <td>Air carrier 1 [was] being worked by Sector 56 ...</td>\n",
       "      <td>NaN</td>\n",
       "      <td>ZNY controllers and flight crew personnel desc...</td>\n",
       "      <td>NaN</td>\n",
       "    </tr>\n",
       "    <tr>\n",
       "      <th>1</th>\n",
       "      <td>925560</td>\n",
       "      <td>201101</td>\n",
       "      <td>1201-1800</td>\n",
       "      <td>ZZZ.Tower</td>\n",
       "      <td>US</td>\n",
       "      <td>NaN</td>\n",
       "      <td>NaN</td>\n",
       "      <td>0.0</td>\n",
       "      <td>NaN</td>\n",
       "      <td>NaN</td>\n",
       "      <td>...</td>\n",
       "      <td>Taxi</td>\n",
       "      <td>Air Traffic Control Issued New Clearance; Air ...</td>\n",
       "      <td>Human Factors</td>\n",
       "      <td>Human Factors</td>\n",
       "      <td>Aircraft X; a CRJ2; landed Runway XXL and was ...</td>\n",
       "      <td>NaN</td>\n",
       "      <td>NaN</td>\n",
       "      <td>NaN</td>\n",
       "      <td>Disabled aircraft causes airport authority to ...</td>\n",
       "      <td>NaN</td>\n",
       "    </tr>\n",
       "    <tr>\n",
       "      <th>2</th>\n",
       "      <td>925563</td>\n",
       "      <td>201101</td>\n",
       "      <td>1201-1800</td>\n",
       "      <td>ZOB.ARTCC</td>\n",
       "      <td>OH</td>\n",
       "      <td>NaN</td>\n",
       "      <td>NaN</td>\n",
       "      <td>NaN</td>\n",
       "      <td>15000.0</td>\n",
       "      <td>NaN</td>\n",
       "      <td>...</td>\n",
       "      <td>In-flight</td>\n",
       "      <td>Air Traffic Control Issued New Clearance; Air ...</td>\n",
       "      <td>Human Factors; Procedure; Staffing</td>\n",
       "      <td>Human Factors</td>\n",
       "      <td>I was working combined sectors with no D-side....</td>\n",
       "      <td>NaN</td>\n",
       "      <td>NaN</td>\n",
       "      <td>NaN</td>\n",
       "      <td>ZOB Controller reported that when an aircraft ...</td>\n",
       "      <td>NaN</td>\n",
       "    </tr>\n",
       "    <tr>\n",
       "      <th>3</th>\n",
       "      <td>925810</td>\n",
       "      <td>201101</td>\n",
       "      <td>0001-0600</td>\n",
       "      <td>ZZZ.Airport</td>\n",
       "      <td>US</td>\n",
       "      <td>NaN</td>\n",
       "      <td>NaN</td>\n",
       "      <td>0.0</td>\n",
       "      <td>NaN</td>\n",
       "      <td>NaN</td>\n",
       "      <td>...</td>\n",
       "      <td>Aircraft In Service At Gate</td>\n",
       "      <td>Flight Crew Returned To Gate; General Maintena...</td>\n",
       "      <td>Procedure; Human Factors; Aircraft; Staffing; ...</td>\n",
       "      <td>Aircraft</td>\n",
       "      <td>[We] arrived to a cold airplane with ambient t...</td>\n",
       "      <td>NaN</td>\n",
       "      <td>NaN</td>\n",
       "      <td>NaN</td>\n",
       "      <td>A CRJ flight crew suffered a hot start on a fi...</td>\n",
       "      <td>NaN</td>\n",
       "    </tr>\n",
       "    <tr>\n",
       "      <th>4</th>\n",
       "      <td>925811</td>\n",
       "      <td>201101</td>\n",
       "      <td>0601-1200</td>\n",
       "      <td>ZZZ.Airport</td>\n",
       "      <td>US</td>\n",
       "      <td>NaN</td>\n",
       "      <td>NaN</td>\n",
       "      <td>NaN</td>\n",
       "      <td>32500.0</td>\n",
       "      <td>IMC</td>\n",
       "      <td>...</td>\n",
       "      <td>In-flight</td>\n",
       "      <td>Air Traffic Control Provided Assistance; Aircr...</td>\n",
       "      <td>Aircraft; Weather</td>\n",
       "      <td>Aircraft</td>\n",
       "      <td>During the climbout we entered the ragged over...</td>\n",
       "      <td>NaN</td>\n",
       "      <td>NaN</td>\n",
       "      <td>NaN</td>\n",
       "      <td>B717 Captain experienced simultaneous overspee...</td>\n",
       "      <td>NaN</td>\n",
       "    </tr>\n",
       "  </tbody>\n",
       "</table>\n",
       "<p>5 rows × 97 columns</p>\n",
       "</div>"
      ],
      "text/plain": [
       "      ACN    Date Local Time Of Day Locale Reference State Reference  \\\n",
       "0  925545  201101         0001-0600        ZNY.ARTCC              NY   \n",
       "1  925560  201101         1201-1800        ZZZ.Tower              US   \n",
       "2  925563  201101         1201-1800        ZOB.ARTCC              OH   \n",
       "3  925810  201101         0001-0600      ZZZ.Airport              US   \n",
       "4  925811  201101         0601-1200      ZZZ.Airport              US   \n",
       "\n",
       "   Relative Position.Angle.Radial  Relative Position.Distance.Nautical Miles  \\\n",
       "0                             NaN                                        NaN   \n",
       "1                             NaN                                        NaN   \n",
       "2                             NaN                                        NaN   \n",
       "3                             NaN                                        NaN   \n",
       "4                             NaN                                        NaN   \n",
       "\n",
       "   Altitude.AGL.Single Value  Altitude.MSL.Single Value Flight Conditions  \\\n",
       "0                        NaN                    19000.0               NaN   \n",
       "1                        0.0                        NaN               NaN   \n",
       "2                        NaN                    15000.0               NaN   \n",
       "3                        0.0                        NaN               NaN   \n",
       "4                        NaN                    32500.0               IMC   \n",
       "\n",
       "      ...                     When Detected  \\\n",
       "0     ...                               NaN   \n",
       "1     ...                              Taxi   \n",
       "2     ...                         In-flight   \n",
       "3     ...       Aircraft In Service At Gate   \n",
       "4     ...                         In-flight   \n",
       "\n",
       "                                              Result  \\\n",
       "0           Air Traffic Control Issued New Clearance   \n",
       "1  Air Traffic Control Issued New Clearance; Air ...   \n",
       "2  Air Traffic Control Issued New Clearance; Air ...   \n",
       "3  Flight Crew Returned To Gate; General Maintena...   \n",
       "4  Air Traffic Control Provided Assistance; Aircr...   \n",
       "\n",
       "                   Contributing Factors / Situations Primary Problem  \\\n",
       "0       Aircraft; Equipment / Tooling; Human Factors   Human Factors   \n",
       "1                                      Human Factors   Human Factors   \n",
       "2                 Human Factors; Procedure; Staffing   Human Factors   \n",
       "3  Procedure; Human Factors; Aircraft; Staffing; ...        Aircraft   \n",
       "4                                  Aircraft; Weather        Aircraft   \n",
       "\n",
       "                                           Narrative Callback  \\\n",
       "0  [I was] working air carrier 1 at FL190. Sector...      NaN   \n",
       "1  Aircraft X; a CRJ2; landed Runway XXL and was ...      NaN   \n",
       "2  I was working combined sectors with no D-side....      NaN   \n",
       "3  [We] arrived to a cold airplane with ambient t...      NaN   \n",
       "4  During the climbout we entered the ragged over...      NaN   \n",
       "\n",
       "                                         Narrative.1 Callback.1  \\\n",
       "0  Air carrier 1 [was] being worked by Sector 56 ...        NaN   \n",
       "1                                                NaN        NaN   \n",
       "2                                                NaN        NaN   \n",
       "3                                                NaN        NaN   \n",
       "4                                                NaN        NaN   \n",
       "\n",
       "                                            Synopsis  Unnamed: 96  \n",
       "0  ZNY controllers and flight crew personnel desc...          NaN  \n",
       "1  Disabled aircraft causes airport authority to ...          NaN  \n",
       "2  ZOB Controller reported that when an aircraft ...          NaN  \n",
       "3  A CRJ flight crew suffered a hot start on a fi...          NaN  \n",
       "4  B717 Captain experienced simultaneous overspee...          NaN  \n",
       "\n",
       "[5 rows x 97 columns]"
      ]
     },
     "execution_count": 4,
     "metadata": {},
     "output_type": "execute_result"
    }
   ],
   "source": [
    "df_trn = pd.read_csv(path/'train_Robinson.csv', skiprows=1,low_memory=False, dtype={'Contributing Factors / Situations':str})\n",
    "df_val = pd.read_csv(path/'valid.csv', skiprows=1,low_memory=False, dtype={'Contributing Factors / Situations':str})\n",
    "df_trn.head(5)"
   ]
  },
  {
   "cell_type": "code",
   "execution_count": 5,
   "metadata": {},
   "outputs": [
    {
     "data": {
      "text/plain": [
       "((4500, 97), (2948, 97))"
      ]
     },
     "execution_count": 5,
     "metadata": {},
     "output_type": "execute_result"
    }
   ],
   "source": [
    "df_trn.shape, df_val.shape"
   ]
  },
  {
   "cell_type": "code",
   "execution_count": 9,
   "metadata": {},
   "outputs": [],
   "source": [
    "df_trn.dropna(axis=0, subset=['Contributing Factors / Situations'], inplace=True)\n",
    "df_val.dropna(axis=0, subset=['Contributing Factors / Situations'], inplace=True)"
   ]
  },
  {
   "cell_type": "code",
   "execution_count": 10,
   "metadata": {},
   "outputs": [
    {
     "data": {
      "text/plain": [
       "(4485, 2935)"
      ]
     },
     "execution_count": 10,
     "metadata": {},
     "output_type": "execute_result"
    }
   ],
   "source": [
    "len(df_trn), len(df_val)"
   ]
  },
  {
   "cell_type": "code",
   "execution_count": 11,
   "metadata": {
    "scrolled": true
   },
   "outputs": [],
   "source": [
    "# Replace label delimiter '; ' by single char '|' to allow compatibility with fastai 1.0.28\n",
    "\n",
    "df_trn['Contributing Factors / Situations'] = df_trn['Contributing Factors / Situations'].str.replace('; ', '|').astype(str)\n",
    "\n",
    "df_val['Contributing Factors / Situations'] = df_val['Contributing Factors / Situations'].str.replace('; ', '|').astype(str)\n"
   ]
  },
  {
   "cell_type": "markdown",
   "metadata": {},
   "source": [
    "## Language model\n",
    "\n",
    "Fine tune the language model"
   ]
  },
  {
   "cell_type": "code",
   "execution_count": 12,
   "metadata": {},
   "outputs": [],
   "source": [
    "df = pd.concat([df_trn, df_val], ignore_index=True)"
   ]
  },
  {
   "cell_type": "code",
   "execution_count": 13,
   "metadata": {},
   "outputs": [],
   "source": [
    "bs = 48"
   ]
  },
  {
   "cell_type": "code",
   "execution_count": 14,
   "metadata": {},
   "outputs": [],
   "source": [
    "data_lm = (TextList.from_df(df, path, cols='Narrative')\n",
    "                .random_split_by_pct(0.1)\n",
    "                .label_for_lm()\n",
    "                .databunch(bs=bs))"
   ]
  },
  {
   "cell_type": "code",
   "execution_count": 15,
   "metadata": {},
   "outputs": [],
   "source": [
    "data_lm.save('tmp_lm')"
   ]
  },
  {
   "cell_type": "code",
   "execution_count": 16,
   "metadata": {},
   "outputs": [],
   "source": [
    "learn_lm = language_model_learner(data_lm, pretrained_model=URLs.WT103, drop_mult=0.3)"
   ]
  },
  {
   "cell_type": "code",
   "execution_count": 18,
   "metadata": {},
   "outputs": [
    {
     "name": "stdout",
     "output_type": "stream",
     "text": [
      "LR Finder is complete, type {learner_name}.recorder.plot() to see the graph.\n"
     ]
    },
    {
     "data": {
      "image/png": "[encoded data removed]",
      "text/plain": [
       "<Figure size 432x288 with 1 Axes>"
      ]
     },
     "metadata": {
      "needs_background": "light"
     },
     "output_type": "display_data"
    }
   ],
   "source": [
    "learn_lm.lr_find()\n",
    "learn_lm.recorder.plot(skip_end=10)"
   ]
  },
  {
   "cell_type": "code",
   "execution_count": 19,
   "metadata": {},
   "outputs": [
    {
     "name": "stdout",
     "output_type": "stream",
     "text": [
      "Total time: 00:47\n",
      "epoch  train_loss  valid_loss  accuracy\n",
      "1      4.108119    3.942737    0.276310  (00:47)\n",
      "\n"
     ]
    }
   ],
   "source": [
    "learn_lm.fit_one_cycle(1, 1e-2, moms=(0.8,0.7))"
   ]
  },
  {
   "cell_type": "code",
   "execution_count": 20,
   "metadata": {},
   "outputs": [],
   "source": [
    "learn_lm.save('fit_head')"
   ]
  },
  {
   "cell_type": "code",
   "execution_count": null,
   "metadata": {},
   "outputs": [],
   "source": [
    "learn_lm.load('fit_head')"
   ]
  },
  {
   "cell_type": "code",
   "execution_count": 21,
   "metadata": {},
   "outputs": [
    {
     "name": "stdout",
     "output_type": "stream",
     "text": [
      "Total time: 09:58\n",
      "epoch  train_loss  valid_loss  accuracy\n",
      "1      3.855438    3.800400    0.291591  (00:59)\n",
      "2      3.759814    3.692157    0.303298  (00:59)\n",
      "3      3.602196    3.617920    0.310050  (00:59)\n",
      "4      3.506228    3.559112    0.316812  (00:59)\n",
      "5      3.384718    3.523955    0.319978  (01:00)\n",
      "6      3.304082    3.505268    0.322260  (01:00)\n",
      "7      3.205504    3.498160    0.323293  (00:59)\n",
      "8      3.128214    3.500733    0.323048  (01:00)\n",
      "9      3.084575    3.503936    0.323252  (00:59)\n",
      "10     3.047713    3.508037    0.322524  (01:00)\n",
      "\n"
     ]
    }
   ],
   "source": [
    "learn_lm.unfreeze()\n",
    "learn_lm.fit_one_cycle(10, 1e-3, moms=(0.8,0.7))"
   ]
  },
  {
   "cell_type": "code",
   "execution_count": 22,
   "metadata": {},
   "outputs": [
    {
     "data": {
      "image/png": "[encoded data removed]",
      "text/plain": [
       "<Figure size 432x288 with 1 Axes>"
      ]
     },
     "metadata": {
      "needs_background": "light"
     },
     "output_type": "display_data"
    }
   ],
   "source": [
    "learn_lm.recorder.plot_losses()"
   ]
  },
  {
   "cell_type": "code",
   "execution_count": 25,
   "metadata": {},
   "outputs": [],
   "source": [
    "learn_lm.save('fine_tuned')"
   ]
  },
  {
   "cell_type": "code",
   "execution_count": 26,
   "metadata": {},
   "outputs": [],
   "source": [
    "learn_lm.save_encoder('fine_tuned_enc')"
   ]
  },
  {
   "cell_type": "markdown",
   "metadata": {},
   "source": [
    "Fine tuned models *fit_head*, *fine_tuned* and *fine_tuned_enc* are saved in default `path/models` folder\n",
    "\n",
    "Numeralized text and the integer to string dictionary are saved in user defined `path/tmp_lm` folder "
   ]
  },
  {
   "cell_type": "markdown",
   "metadata": {},
   "source": [
    "## Classifier"
   ]
  },
  {
   "cell_type": "code",
   "execution_count": 27,
   "metadata": {},
   "outputs": [],
   "source": [
    "bs = 48"
   ]
  },
  {
   "cell_type": "code",
   "execution_count": 28,
   "metadata": {},
   "outputs": [],
   "source": [
    "data_lm = TextLMDataBunch.load(path, 'tmp_lm', bs=bs)"
   ]
  },
  {
   "cell_type": "code",
   "execution_count": 29,
   "metadata": {},
   "outputs": [],
   "source": [
    "def precision(log_preds, targs, thresh=0.5, epsilon=1e-8):\n",
    "    pred_pos = (log_preds > thresh).float()\n",
    "    tpos = torch.mul((targs == pred_pos).float(), targs.float())\n",
    "    return (tpos.sum()/(pred_pos.sum() + epsilon))#.item()"
   ]
  },
  {
   "cell_type": "code",
   "execution_count": 30,
   "metadata": {},
   "outputs": [],
   "source": [
    "def recall(log_preds, targs, thresh=0.5, epsilon=1e-8):\n",
    "    pred_pos = (log_preds > thresh).float()\n",
    "    tpos = torch.mul((targs == pred_pos).float(), targs.float())\n",
    "    return (tpos.sum()/(targs.sum() + epsilon))"
   ]
  },
  {
   "cell_type": "code",
   "execution_count": 31,
   "metadata": {},
   "outputs": [],
   "source": [
    "data_clas = TextClasDataBunch.from_df(path, train_df=df_trn, valid_df=df_val, \n",
    "                                  vocab=data_lm.vocab, \n",
    "                                  text_cols='Narrative', \n",
    "                                  label_cols='Contributing Factors / Situations',\n",
    "                                  label_delim='|',\n",
    "                                  bs=bs)"
   ]
  },
  {
   "cell_type": "code",
   "execution_count": 32,
   "metadata": {},
   "outputs": [],
   "source": [
    "data_clas.save('tmp_clas')"
   ]
  },
  {
   "cell_type": "code",
   "execution_count": 33,
   "metadata": {},
   "outputs": [],
   "source": [
    "learn = text_classifier_learner(data_clas, drop_mult=0.5)\n",
    "learn.metrics = [accuracy_thresh, precision, recall]\n",
    "learn.load_encoder('fine_tuned_enc')"
   ]
  },
  {
   "cell_type": "code",
   "execution_count": 34,
   "metadata": {},
   "outputs": [
    {
     "name": "stdout",
     "output_type": "stream",
     "text": [
      "Total time: 00:36\n",
      "epoch  train_loss  valid_loss  accuracy_thresh  precision  recall  \n",
      "1      0.239528    0.219730    0.907879         0.771040   0.441893  (00:36)\n",
      "\n"
     ]
    }
   ],
   "source": [
    "learn.freeze()\n",
    "learn.fit_one_cycle(1, 3e-2, moms=(0.8,0.7))"
   ]
  },
  {
   "cell_type": "code",
   "execution_count": 35,
   "metadata": {},
   "outputs": [],
   "source": [
    "learn.save('first_factors')"
   ]
  },
  {
   "cell_type": "code",
   "execution_count": null,
   "metadata": {},
   "outputs": [],
   "source": [
    "learn.load('first_factors')"
   ]
  },
  {
   "cell_type": "code",
   "execution_count": 36,
   "metadata": {},
   "outputs": [
    {
     "name": "stdout",
     "output_type": "stream",
     "text": [
      "Total time: 01:25\n",
      "epoch  train_loss  valid_loss  accuracy_thresh  precision  recall  \n",
      "1      0.226213    0.217303    0.909732         0.756436   0.501886  (00:42)\n",
      "2      0.216116    0.214490    0.909625         0.739172   0.519424  (00:42)\n",
      "\n"
     ]
    }
   ],
   "source": [
    "learn.freeze_to(-2)\n",
    "learn.fit_one_cycle(2, slice(1e-2/(2.6**4),1e-2), moms=(0.8,0.7), wd=0.1)"
   ]
  },
  {
   "cell_type": "code",
   "execution_count": 37,
   "metadata": {},
   "outputs": [],
   "source": [
    "learn.save('second_factors')"
   ]
  },
  {
   "cell_type": "code",
   "execution_count": null,
   "metadata": {},
   "outputs": [],
   "source": [
    "learn.load('second_factors')"
   ]
  },
  {
   "cell_type": "code",
   "execution_count": null,
   "metadata": {},
   "outputs": [],
   "source": [
    "learn.unfreeze()\n",
    "learn.fit_one_cycle(2, slice(1e-3/(2.6**4),1e-3), moms=(0.8,0.7), wd=0.1)"
   ]
  },
  {
   "cell_type": "code",
   "execution_count": 38,
   "metadata": {
    "scrolled": false
   },
   "outputs": [
    {
     "name": "stderr",
     "output_type": "stream",
     "text": [
      "/home/krasin/anaconda2/envs/fastai.1/lib/python3.6/site-packages/torch/nn/functional.py:1126: UserWarning: nn.functional.sigmoid is deprecated. Use torch.sigmoid instead.\n",
      "  warnings.warn(\"nn.functional.sigmoid is deprecated. Use torch.sigmoid instead.\")\n"
     ]
    }
   ],
   "source": [
    "# Predict on the validation dataset\n",
    "y_pred, y_true =  learn.get_preds()"
   ]
  },
  {
   "cell_type": "markdown",
   "metadata": {},
   "source": [
    "Classifier models *first_factors* and *second_factors* are saved in default `path/models` folder\n",
    "\n",
    "Numeralized text, labels and the integer to string dictionary are saved in user defined `path/tmp_clas` folder "
   ]
  },
  {
   "cell_type": "markdown",
   "metadata": {},
   "source": [
    "## Evaluate results"
   ]
  },
  {
   "cell_type": "code",
   "execution_count": 39,
   "metadata": {
    "scrolled": false
   },
   "outputs": [],
   "source": [
    "from sklearn.metrics import precision_score, recall_score, accuracy_score, f1_score"
   ]
  },
  {
   "cell_type": "code",
   "execution_count": 40,
   "metadata": {},
   "outputs": [],
   "source": [
    "from sklearn.metrics import classification_report"
   ]
  },
  {
   "cell_type": "code",
   "execution_count": 41,
   "metadata": {},
   "outputs": [
    {
     "data": {
      "text/plain": [
       "0.6599488864549106"
      ]
     },
     "execution_count": 41,
     "metadata": {},
     "output_type": "execute_result"
    }
   ],
   "source": [
    "f1_score(y_true, y_pred>0.35, average='micro')"
   ]
  },
  {
   "cell_type": "code",
   "execution_count": 44,
   "metadata": {},
   "outputs": [],
   "source": [
    "y_true = y_true.numpy()\n",
    "scores = y_pred.numpy()"
   ]
  },
  {
   "cell_type": "code",
   "execution_count": 35,
   "metadata": {},
   "outputs": [
    {
     "data": {
      "text/plain": [
       "((2935, 16), (2935, 16))"
      ]
     },
     "execution_count": 35,
     "metadata": {},
     "output_type": "execute_result"
    }
   ],
   "source": [
    "scores.shape, y_true.shape"
   ]
  },
  {
   "cell_type": "code",
   "execution_count": 51,
   "metadata": {},
   "outputs": [
    {
     "name": "stdout",
     "output_type": "stream",
     "text": [
      "                                              precision    recall  f1-score   support\n",
      "\n",
      "                         Equipment / Tooling       0.00      0.00      0.00        56\n",
      "                                    Aircraft       0.79      0.92      0.85      1635\n",
      "    ATC Equipment / Nav Facility / Buildings       0.00      0.00      0.00        60\n",
      "           Environment - Non Weather Related       0.29      0.18      0.23       238\n",
      "                                     Weather       0.61      0.60      0.60       270\n",
      "                               Human Factors       0.73      0.88      0.80      1672\n",
      "                                    Staffing       0.50      0.02      0.04        52\n",
      "                               Logbook Entry       0.29      0.08      0.13        59\n",
      "Incorrect / Not Installed / Unavailable Part       0.23      0.15      0.18        71\n",
      "                          Airspace Structure       0.50      0.05      0.10        92\n",
      "                                   Procedure       0.37      0.88      0.52       754\n",
      "                                     Manuals       0.50      0.38      0.43       163\n",
      "                                     Airport       0.53      0.44      0.48       212\n",
      "                                         MEL       0.40      0.32      0.36        84\n",
      "                        Chart Or Publication       0.49      0.58      0.53       259\n",
      "                              Company Policy       0.64      0.52      0.57       624\n",
      "\n",
      "                                 avg / total       0.61      0.72      0.64      6301\n",
      "\n"
     ]
    }
   ],
   "source": [
    "metrics = classification_report(y_true, scores>0.35, target_names=data_clas.valid_ds.classes)\n",
    "print(metrics)"
   ]
  }
 ],
 "metadata": {
  "kernelspec": {
   "display_name": "Python 3",
   "language": "python",
   "name": "python3"
  },
  "language_info": {
   "codemirror_mode": {
    "name": "ipython",
    "version": 3
   },
   "file_extension": ".py",
   "mimetype": "text/x-python",
   "name": "python",
   "nbconvert_exporter": "python",
   "pygments_lexer": "ipython3",
   "version": "3.6.8"
  }
 },
 "nbformat": 4,
 "nbformat_minor": 2
}
