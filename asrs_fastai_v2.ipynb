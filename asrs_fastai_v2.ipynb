{
 "cells": [
  {
   "cell_type": "markdown",
   "metadata": {
    "id": "rOmPcqK6rEhp"
   },
   "source": [
    "# Multilable text classification with fastai v2"
   ]
  },
  {
   "cell_type": "code",
   "execution_count": 1,
   "metadata": {
    "id": "1g3KeOfNrEht"
   },
   "outputs": [],
   "source": [
    "%reload_ext autoreload\n",
    "%autoreload 2\n",
    "%matplotlib inline"
   ]
  },
  {
   "cell_type": "code",
   "execution_count": 2,
   "metadata": {
    "id": "7eve4UNWrEhv",
    "outputId": "059b8214-fe5a-43ba-8e1b-99c09b2426dc",
    "scrolled": true
   },
   "outputs": [],
   "source": [
    "from fastai.imports import *\n",
    "from fastai.text.all import *"
   ]
  },
  {
   "cell_type": "code",
   "execution_count": 3,
   "metadata": {
    "id": "dr9e-AeDrEhx",
    "outputId": "22199ed3-4bd6-4541-de81-8bd4d6631244"
   },
   "outputs": [
    {
     "data": {
      "text/plain": [
       "'2.6.3'"
      ]
     },
     "execution_count": 3,
     "metadata": {},
     "output_type": "execute_result"
    }
   ],
   "source": [
    "import fastai\n",
    "fastai.__version__"
   ]
  },
  {
   "cell_type": "code",
   "execution_count": 4,
   "metadata": {
    "id": "n1rJn-b2rEhx"
   },
   "outputs": [],
   "source": [
    "path = Path('.')"
   ]
  },
  {
   "cell_type": "markdown",
   "metadata": {
    "id": "DAaVx5wNrEhy"
   },
   "source": [
    "## Prepare dataframe"
   ]
  },
  {
   "cell_type": "code",
   "execution_count": 51,
   "metadata": {
    "id": "ooyC--JZrEhy",
    "outputId": "95c178f4-a100-4d0c-c144-c18e137cb1ed",
    "scrolled": true
   },
   "outputs": [
    {
     "data": {
      "text/html": [
       "<div>\n",
       "<style scoped>\n",
       "    .dataframe tbody tr th:only-of-type {\n",
       "        vertical-align: middle;\n",
       "    }\n",
       "\n",
       "    .dataframe tbody tr th {\n",
       "        vertical-align: top;\n",
       "    }\n",
       "\n",
       "    .dataframe thead th {\n",
       "        text-align: right;\n",
       "    }\n",
       "</style>\n",
       "<table border=\"1\" class=\"dataframe\">\n",
       "  <thead>\n",
       "    <tr style=\"text-align: right;\">\n",
       "      <th></th>\n",
       "      <th>Contributing Factors / Situations</th>\n",
       "      <th>Narrative</th>\n",
       "    </tr>\n",
       "  </thead>\n",
       "  <tbody>\n",
       "    <tr>\n",
       "      <th>0</th>\n",
       "      <td>Aircraft; Equipment / Tooling; Human Factors</td>\n",
       "      <td>[I was] working air carrier 1 at FL190. Sector 68 called for a point out of air carrier 2. Aircraft 2 was assigned FL170. [I] referenced air carrier 1 traffic; approved the point out. When I saw [that] aircraft 2 was climbing [I] gave [the] traffic call and took corrective action to re-establish standard separation by turning air carrier 1 to a 360 degree heading. When separation was established [I] routed the air carrier 1 back [on route].</td>\n",
       "    </tr>\n",
       "    <tr>\n",
       "      <th>1</th>\n",
       "      <td>Human Factors</td>\n",
       "      <td>Aircraft X; a CRJ2; landed Runway XXL and was instructed to 'turn left and contact ground point 8'.  He exited; but did not entirely clear the runway.  He informed Ground Control that he had a steering issue and was having problems exiting.  We had no arrivals for about 25 miles and none were lined up on final yet and no departures ready to depart.  Aircraft X informed me that he was trying to exit and I informed him to switch over to Ground Control and that we were aware of his situation.  I then informed my Supervisor of his problem.  She called Airport Operations and they closed the run...</td>\n",
       "    </tr>\n",
       "    <tr>\n",
       "      <th>2</th>\n",
       "      <td>Human Factors; Procedure; Staffing</td>\n",
       "      <td>I was working combined sectors with no D-side. The weather was not bad but there was continuous light chop at all of my altitudes. Aircraft X checked on and; as soon as he crossed into my sector on the LLEEO STAR; I issued him pilot discretion to FL240. When he approached the low sector that was combined with the high sector I told [the] aircraft to descend now maintain FL200 to keep him above some CLE departure traffic. Once the traffic was no factor I issued the pilot a clearance to cross LLEEO at and maintain FL100.I went about other duties and when the aircraft was approximately 12-15 ...</td>\n",
       "    </tr>\n",
       "    <tr>\n",
       "      <th>3</th>\n",
       "      <td>Procedure; Human Factors; Aircraft; Staffing; Weather</td>\n",
       "      <td>[We] arrived to a cold airplane with ambient temperatures around -10 degrees Celsius. I noticed the flight departing thirty minutes after ours was connected to ground heater cart. Due to a delayed departure time; to accommodate rest; we were asked to commence boarding immediately by Operations. I started the APU to start warming the aircraft. Fueling of the aircraft was not completed until after boarding was accomplished. During engine start flow the left fuel pump would not come on line on the first press of the button. I reselected the switch and it eventually came on line. Attempted to ...</td>\n",
       "    </tr>\n",
       "    <tr>\n",
       "      <th>4</th>\n",
       "      <td>Aircraft; Weather</td>\n",
       "      <td>During the climbout we entered the ragged overcast between 12;000 and 14;000. At 18;000 FT we adjusted all barometric settings to 29.92. Passing through FL190 while cleared to climb to final cruise altitude of FL340; the ambient weather conditions indicated icing conditions existed and we turned on all engine anti-ice and airfoil anti-ice. (Note: The Air Data Heat switch had been on since before conducting the 'Before Engine Start' checklist back at the gate). No ice accumulation was noted throughout the climb; or anytime during the event. The FMS indicated that we were able to climb to a ...</td>\n",
       "    </tr>\n",
       "  </tbody>\n",
       "</table>\n",
       "</div>"
      ],
      "text/plain": [
       "                       Contributing Factors / Situations  \\\n",
       "0           Aircraft; Equipment / Tooling; Human Factors   \n",
       "1                                          Human Factors   \n",
       "2                     Human Factors; Procedure; Staffing   \n",
       "3  Procedure; Human Factors; Aircraft; Staffing; Weather   \n",
       "4                                      Aircraft; Weather   \n",
       "\n",
       "                                                                                                                                                                                                                                                                                                                                                                                                                                                                                                                                                                                                                 Narrative  \n",
       "0                                                                                                                                                             [I was] working air carrier 1 at FL190. Sector 68 called for a point out of air carrier 2. Aircraft 2 was assigned FL170. [I] referenced air carrier 1 traffic; approved the point out. When I saw [that] aircraft 2 was climbing [I] gave [the] traffic call and took corrective action to re-establish standard separation by turning air carrier 1 to a 360 degree heading. When separation was established [I] routed the air carrier 1 back [on route].  \n",
       "1  Aircraft X; a CRJ2; landed Runway XXL and was instructed to 'turn left and contact ground point 8'.  He exited; but did not entirely clear the runway.  He informed Ground Control that he had a steering issue and was having problems exiting.  We had no arrivals for about 25 miles and none were lined up on final yet and no departures ready to depart.  Aircraft X informed me that he was trying to exit and I informed him to switch over to Ground Control and that we were aware of his situation.  I then informed my Supervisor of his problem.  She called Airport Operations and they closed the run...  \n",
       "2  I was working combined sectors with no D-side. The weather was not bad but there was continuous light chop at all of my altitudes. Aircraft X checked on and; as soon as he crossed into my sector on the LLEEO STAR; I issued him pilot discretion to FL240. When he approached the low sector that was combined with the high sector I told [the] aircraft to descend now maintain FL200 to keep him above some CLE departure traffic. Once the traffic was no factor I issued the pilot a clearance to cross LLEEO at and maintain FL100.I went about other duties and when the aircraft was approximately 12-15 ...  \n",
       "3  [We] arrived to a cold airplane with ambient temperatures around -10 degrees Celsius. I noticed the flight departing thirty minutes after ours was connected to ground heater cart. Due to a delayed departure time; to accommodate rest; we were asked to commence boarding immediately by Operations. I started the APU to start warming the aircraft. Fueling of the aircraft was not completed until after boarding was accomplished. During engine start flow the left fuel pump would not come on line on the first press of the button. I reselected the switch and it eventually came on line. Attempted to ...  \n",
       "4  During the climbout we entered the ragged overcast between 12;000 and 14;000. At 18;000 FT we adjusted all barometric settings to 29.92. Passing through FL190 while cleared to climb to final cruise altitude of FL340; the ambient weather conditions indicated icing conditions existed and we turned on all engine anti-ice and airfoil anti-ice. (Note: The Air Data Heat switch had been on since before conducting the 'Before Engine Start' checklist back at the gate). No ice accumulation was noted throughout the climb; or anytime during the event. The FMS indicated that we were able to climb to a ...  "
      ]
     },
     "execution_count": 51,
     "metadata": {},
     "output_type": "execute_result"
    }
   ],
   "source": [
    "df_trn = pd.read_csv(path/'data'/'train_Robinson.csv', skiprows=1,low_memory=False, dtype={'Contributing Factors / Situations':str})\n",
    "df_val = pd.read_csv(path/'data'/'valid.csv', skiprows=1,low_memory=False, dtype={'Contributing Factors / Situations':str})\n",
    "df_trn['is_valid'] = False\n",
    "df_val['is_valid'] = True\n",
    "df_trn[['Contributing Factors / Situations', 'Narrative']].head(5)"
   ]
  },
  {
   "cell_type": "code",
   "execution_count": 6,
   "metadata": {
    "id": "trIUZfcmrEhz",
    "outputId": "a7919e34-7d97-4a8d-befb-cb957838c964"
   },
   "outputs": [
    {
     "data": {
      "text/plain": [
       "((4500, 98), (2948, 98))"
      ]
     },
     "execution_count": 6,
     "metadata": {},
     "output_type": "execute_result"
    }
   ],
   "source": [
    "df_trn.shape, df_val.shape"
   ]
  },
  {
   "cell_type": "code",
   "execution_count": 7,
   "metadata": {
    "id": "lDjByRedrEh0"
   },
   "outputs": [],
   "source": [
    "df_trn.dropna(axis=0, subset=['Contributing Factors / Situations'], inplace=True)\n",
    "df_val.dropna(axis=0, subset=['Contributing Factors / Situations'], inplace=True)"
   ]
  },
  {
   "cell_type": "code",
   "execution_count": 8,
   "metadata": {
    "id": "b10x-nEarEh1",
    "outputId": "4be47538-e680-4be5-c60c-7fc84ae53918"
   },
   "outputs": [
    {
     "data": {
      "text/plain": [
       "(4485, 2935)"
      ]
     },
     "execution_count": 8,
     "metadata": {},
     "output_type": "execute_result"
    }
   ],
   "source": [
    "len(df_trn), len(df_val)"
   ]
  },
  {
   "cell_type": "markdown",
   "metadata": {
    "id": "mR4ux2skrEh2"
   },
   "source": [
    "## Language model\n",
    "\n",
    "Fine tune the language model"
   ]
  },
  {
   "cell_type": "code",
   "execution_count": 9,
   "metadata": {
    "id": "EWxTKNcPrEh2"
   },
   "outputs": [],
   "source": [
    "df = pd.concat([df_trn, df_val], ignore_index=True)"
   ]
  },
  {
   "cell_type": "code",
   "execution_count": 10,
   "metadata": {
    "id": "wEgP5_CArEh3"
   },
   "outputs": [],
   "source": [
    "bs = 96"
   ]
  },
  {
   "cell_type": "code",
   "execution_count": 11,
   "metadata": {
    "id": "-2sxlpR2rEh3"
   },
   "outputs": [],
   "source": [
    "dls_db = DataBlock(blocks=TextBlock.from_df('Narrative', is_lm=True), \n",
    "                   get_x=ColReader('text'), # should be 'text'!!!\n",
    "                   splitter=RandomSplitter(0.1)) #"
   ]
  },
  {
   "cell_type": "code",
   "execution_count": 12,
   "metadata": {
    "id": "NzTZtviUrEh3",
    "outputId": "c12462d4-9d4d-43ed-87b0-84ae2874ce85"
   },
   "outputs": [
    {
     "data": {
      "text/html": [
       "\n",
       "<style>\n",
       "    /* Turns off some styling */\n",
       "    progress {\n",
       "        /* gets rid of default border in Firefox and Opera. */\n",
       "        border: none;\n",
       "        /* Needs to be in here for Safari polyfill so background images work as expected. */\n",
       "        background-size: auto;\n",
       "    }\n",
       "    .progress-bar-interrupted, .progress-bar-interrupted::-webkit-progress-bar {\n",
       "        background: #F44336;\n",
       "    }\n",
       "</style>\n"
      ],
      "text/plain": [
       "<IPython.core.display.HTML object>"
      ]
     },
     "metadata": {},
     "output_type": "display_data"
    },
    {
     "data": {
      "text/html": [],
      "text/plain": [
       "<IPython.core.display.HTML object>"
      ]
     },
     "metadata": {},
     "output_type": "display_data"
    }
   ],
   "source": [
    "dls_lm = dls_db.dataloaders(df, bs=bs)"
   ]
  },
  {
   "cell_type": "code",
   "execution_count": 13,
   "metadata": {
    "id": "HP49l-z_rEh4",
    "outputId": "b5c9d21f-51e2-488a-8e49-ff869e1fbf90"
   },
   "outputs": [
    {
     "name": "stderr",
     "output_type": "stream",
     "text": [
      "/home/krasin/mambaforge/lib/python3.9/site-packages/fastai/torch_core.py:476: FutureWarning: The series.append method is deprecated and will be removed from pandas in a future version. Use pandas.concat instead.\n",
      "  ax = ax.append(pd.Series({label: o}))\n",
      "/home/krasin/mambaforge/lib/python3.9/site-packages/fastai/torch_core.py:476: FutureWarning: The series.append method is deprecated and will be removed from pandas in a future version. Use pandas.concat instead.\n",
      "  ax = ax.append(pd.Series({label: o}))\n",
      "/home/krasin/mambaforge/lib/python3.9/site-packages/fastai/torch_core.py:476: FutureWarning: The series.append method is deprecated and will be removed from pandas in a future version. Use pandas.concat instead.\n",
      "  ax = ax.append(pd.Series({label: o}))\n",
      "/home/krasin/mambaforge/lib/python3.9/site-packages/fastai/torch_core.py:476: FutureWarning: The series.append method is deprecated and will be removed from pandas in a future version. Use pandas.concat instead.\n",
      "  ax = ax.append(pd.Series({label: o}))\n",
      "/home/krasin/mambaforge/lib/python3.9/site-packages/fastai/torch_core.py:476: FutureWarning: The series.append method is deprecated and will be removed from pandas in a future version. Use pandas.concat instead.\n",
      "  ax = ax.append(pd.Series({label: o}))\n",
      "/home/krasin/mambaforge/lib/python3.9/site-packages/fastai/torch_core.py:476: FutureWarning: The series.append method is deprecated and will be removed from pandas in a future version. Use pandas.concat instead.\n",
      "  ax = ax.append(pd.Series({label: o}))\n"
     ]
    },
    {
     "data": {
      "text/html": [
       "<table border=\"1\" class=\"dataframe\">\n",
       "  <thead>\n",
       "    <tr style=\"text-align: right;\">\n",
       "      <th></th>\n",
       "      <th>text</th>\n",
       "      <th>text_</th>\n",
       "    </tr>\n",
       "  </thead>\n",
       "  <tbody>\n",
       "    <tr>\n",
       "      <th>0</th>\n",
       "      <td>xxbos xxmaj upon approach the flaps failed to come down so we were forced to abandon the approach . xxmaj we ran the emergency non / normal procedure and tried to trouble shoot the problem . xxmaj approach gave us headings and altitudes away from the airport after the captain declared an emergency . xxmaj we notified dispatch and all the appropriate channels of our situation . xxmaj after we were satisfied</td>\n",
       "      <td>xxmaj upon approach the flaps failed to come down so we were forced to abandon the approach . xxmaj we ran the emergency non / normal procedure and tried to trouble shoot the problem . xxmaj approach gave us headings and altitudes away from the airport after the captain declared an emergency . xxmaj we notified dispatch and all the appropriate channels of our situation . xxmaj after we were satisfied with</td>\n",
       "    </tr>\n",
       "    <tr>\n",
       "      <th>1</th>\n",
       "      <td>off that duct for any reason ( i believe it may have been because it was a -300 series aircraft and the xxmaj air xxmaj conditioning xxmaj system is different than a xxunk series ) . i was unfamiliar that it even had cannon plugs attached . xxmaj and the fact of reconnecting the cannon plugs was not in my thoughts whatsoever ; even after the installation . xxmaj the cannon plugs</td>\n",
       "      <td>that duct for any reason ( i believe it may have been because it was a -300 series aircraft and the xxmaj air xxmaj conditioning xxmaj system is different than a xxunk series ) . i was unfamiliar that it even had cannon plugs attached . xxmaj and the fact of reconnecting the cannon plugs was not in my thoughts whatsoever ; even after the installation . xxmaj the cannon plugs were</td>\n",
       "    </tr>\n",
       "    <tr>\n",
       "      <th>2</th>\n",
       "      <td>to xxrep 3 z a xxmaj logbook entry was made that all the water in the tank was depleted . xxmaj prior to our later dispatch on xxrep 3 z - xxrep 4 z ; later that day ; the xxmaj potable xxmaj water xxmaj quantity xxmaj gage was placed on xxup mel . xxmaj due to the nature of the xxmaj logbook write - up ; it would have been prudent</td>\n",
       "      <td>xxrep 3 z a xxmaj logbook entry was made that all the water in the tank was depleted . xxmaj prior to our later dispatch on xxrep 3 z - xxrep 4 z ; later that day ; the xxmaj potable xxmaj water xxmaj quantity xxmaj gage was placed on xxup mel . xxmaj due to the nature of the xxmaj logbook write - up ; it would have been prudent to</td>\n",
       "    </tr>\n",
       "  </tbody>\n",
       "</table>"
      ],
      "text/plain": [
       "<IPython.core.display.HTML object>"
      ]
     },
     "metadata": {},
     "output_type": "display_data"
    }
   ],
   "source": [
    "dls_lm.show_batch(max_n=3)"
   ]
  },
  {
   "cell_type": "code",
   "execution_count": 14,
   "metadata": {
    "id": "QWkIVhGxrEh4"
   },
   "outputs": [],
   "source": [
    "# dls_lm.save('tmp_lm')"
   ]
  },
  {
   "cell_type": "code",
   "execution_count": 15,
   "metadata": {
    "id": "oGpwJg9JrEh5"
   },
   "outputs": [],
   "source": [
    "learn_lm = language_model_learner(dls_lm, AWD_LSTM, metrics=[accuracy, Perplexity()], path=path, wd=0.1).to_fp16()"
   ]
  },
  {
   "cell_type": "code",
   "execution_count": 16,
   "metadata": {
    "id": "ERTc_V6lrEh5"
   },
   "outputs": [],
   "source": [
    "# learn_lm.lr_find()\n",
    "# #learn_lm.recorder.plot(skip_end=10)"
   ]
  },
  {
   "cell_type": "code",
   "execution_count": 17,
   "metadata": {
    "id": "ud_bwSmzrEh5",
    "outputId": "0af5dabc-a159-4629-9741-68b42b97763a"
   },
   "outputs": [
    {
     "data": {
      "text/html": [
       "\n",
       "<style>\n",
       "    /* Turns off some styling */\n",
       "    progress {\n",
       "        /* gets rid of default border in Firefox and Opera. */\n",
       "        border: none;\n",
       "        /* Needs to be in here for Safari polyfill so background images work as expected. */\n",
       "        background-size: auto;\n",
       "    }\n",
       "    .progress-bar-interrupted, .progress-bar-interrupted::-webkit-progress-bar {\n",
       "        background: #F44336;\n",
       "    }\n",
       "</style>\n"
      ],
      "text/plain": [
       "<IPython.core.display.HTML object>"
      ]
     },
     "metadata": {},
     "output_type": "display_data"
    },
    {
     "data": {
      "text/html": [
       "<table border=\"1\" class=\"dataframe\">\n",
       "  <thead>\n",
       "    <tr style=\"text-align: left;\">\n",
       "      <th>epoch</th>\n",
       "      <th>train_loss</th>\n",
       "      <th>valid_loss</th>\n",
       "      <th>accuracy</th>\n",
       "      <th>perplexity</th>\n",
       "      <th>time</th>\n",
       "    </tr>\n",
       "  </thead>\n",
       "  <tbody>\n",
       "    <tr>\n",
       "      <td>0</td>\n",
       "      <td>3.935159</td>\n",
       "      <td>3.625052</td>\n",
       "      <td>0.320212</td>\n",
       "      <td>37.526691</td>\n",
       "      <td>02:09</td>\n",
       "    </tr>\n",
       "  </tbody>\n",
       "</table>"
      ],
      "text/plain": [
       "<IPython.core.display.HTML object>"
      ]
     },
     "metadata": {},
     "output_type": "display_data"
    }
   ],
   "source": [
    "learn_lm.fit_one_cycle(1, 1e-2)"
   ]
  },
  {
   "cell_type": "code",
   "execution_count": 18,
   "metadata": {
    "id": "vmWnT0fHrEh6",
    "outputId": "691c3bcd-efdc-43e3-d1e3-a3f733488958"
   },
   "outputs": [
    {
     "data": {
      "image/png": "[encoded data removed]",
      "text/plain": [
       "<Figure size 432x288 with 1 Axes>"
      ]
     },
     "metadata": {
      "needs_background": "light"
     },
     "output_type": "display_data"
    }
   ],
   "source": [
    "learn_lm.recorder.plot_loss()"
   ]
  },
  {
   "cell_type": "code",
   "execution_count": 19,
   "metadata": {
    "id": "VK_AYDw7rEh6",
    "outputId": "386baeee-a698-4071-ff67-87fc34eba5cf"
   },
   "outputs": [
    {
     "data": {
      "text/plain": [
       "Path('models/fit_head.pth')"
      ]
     },
     "execution_count": 19,
     "metadata": {},
     "output_type": "execute_result"
    }
   ],
   "source": [
    "learn_lm.save('fit_head')"
   ]
  },
  {
   "cell_type": "code",
   "execution_count": 20,
   "metadata": {
    "id": "y2Xry5L2rEh7",
    "outputId": "9eb51c6b-9bff-4dfc-d75e-663f38698020"
   },
   "outputs": [
    {
     "data": {
      "text/plain": [
       "<fastai.text.learner.LMLearner at 0x7f0de6950250>"
      ]
     },
     "execution_count": 20,
     "metadata": {},
     "output_type": "execute_result"
    }
   ],
   "source": [
    "learn_lm.load('fit_head')"
   ]
  },
  {
   "cell_type": "code",
   "execution_count": 21,
   "metadata": {
    "id": "tgoMqGhyrEh7"
   },
   "outputs": [],
   "source": [
    "# learn_lm.unfreeze()\n",
    "# learn_lm.fit_one_cycle(5, 1e-3)"
   ]
  },
  {
   "cell_type": "code",
   "execution_count": 22,
   "metadata": {
    "id": "JTDnliXerEh7",
    "outputId": "e0d60220-2b8c-4b95-de17-29457c251065"
   },
   "outputs": [
    {
     "data": {
      "text/plain": [
       "Path('models/fine_tuned.pth')"
      ]
     },
     "execution_count": 22,
     "metadata": {},
     "output_type": "execute_result"
    }
   ],
   "source": [
    "learn_lm.save('fine_tuned')"
   ]
  },
  {
   "cell_type": "code",
   "execution_count": 23,
   "metadata": {
    "id": "7DgngDcRrEh7"
   },
   "outputs": [],
   "source": [
    "learn_lm.save_encoder('fine_tuned_enc')"
   ]
  },
  {
   "cell_type": "markdown",
   "metadata": {
    "id": "PbkKCl2FrEh8"
   },
   "source": [
    "Fine tuned models *fit_head*, *fine_tuned* and *fine_tuned_enc* are saved in default `path/models` folder"
   ]
  },
  {
   "cell_type": "markdown",
   "metadata": {
    "id": "3RuAhr4crEh8"
   },
   "source": [
    "## Classifier"
   ]
  },
  {
   "cell_type": "code",
   "execution_count": 24,
   "metadata": {
    "id": "_-SgtfT1rEh8"
   },
   "outputs": [],
   "source": [
    "bs = 48"
   ]
  },
  {
   "cell_type": "code",
   "execution_count": 25,
   "metadata": {
    "id": "F-lWMY8KrEh9"
   },
   "outputs": [],
   "source": [
    "dls_db_clas = DataBlock(blocks=(TextBlock.from_df('Narrative', seq_len=72, vocab=dls_lm.vocab), MultiCategoryBlock()),\n",
    "                      get_x=ColReader('text'),\n",
    "                      get_y=ColReader('Contributing Factors / Situations', label_delim='; '),\n",
    "                      splitter=IndexSplitter(range(len(df_trn), len(df)))) #splitter=ColSplitter(col='is_valid')"
   ]
  },
  {
   "cell_type": "code",
   "execution_count": 26,
   "metadata": {
    "id": "nN9Y9D7irEh9",
    "outputId": "55009afb-d955-4c8b-e189-afa028dd45b7"
   },
   "outputs": [
    {
     "data": {
      "text/html": [
       "\n",
       "<style>\n",
       "    /* Turns off some styling */\n",
       "    progress {\n",
       "        /* gets rid of default border in Firefox and Opera. */\n",
       "        border: none;\n",
       "        /* Needs to be in here for Safari polyfill so background images work as expected. */\n",
       "        background-size: auto;\n",
       "    }\n",
       "    .progress-bar-interrupted, .progress-bar-interrupted::-webkit-progress-bar {\n",
       "        background: #F44336;\n",
       "    }\n",
       "</style>\n"
      ],
      "text/plain": [
       "<IPython.core.display.HTML object>"
      ]
     },
     "metadata": {},
     "output_type": "display_data"
    },
    {
     "data": {
      "text/html": [],
      "text/plain": [
       "<IPython.core.display.HTML object>"
      ]
     },
     "metadata": {},
     "output_type": "display_data"
    }
   ],
   "source": [
    "dls_clas = dls_db_clas.dataloaders(df, bs=bs)"
   ]
  },
  {
   "cell_type": "code",
   "execution_count": 27,
   "metadata": {
    "id": "DLnGmrEgrEh-",
    "outputId": "77e18946-dceb-4298-e0e0-9646b2f4064e"
   },
   "outputs": [
    {
     "name": "stderr",
     "output_type": "stream",
     "text": [
      "/home/krasin/mambaforge/lib/python3.9/site-packages/fastai/torch_core.py:476: FutureWarning: The series.append method is deprecated and will be removed from pandas in a future version. Use pandas.concat instead.\n",
      "  ax = ax.append(pd.Series({label: o}))\n",
      "/home/krasin/mambaforge/lib/python3.9/site-packages/fastai/torch_core.py:476: FutureWarning: The series.append method is deprecated and will be removed from pandas in a future version. Use pandas.concat instead.\n",
      "  ax = ax.append(pd.Series({label: o}))\n",
      "/home/krasin/mambaforge/lib/python3.9/site-packages/fastai/torch_core.py:476: FutureWarning: The series.append method is deprecated and will be removed from pandas in a future version. Use pandas.concat instead.\n",
      "  ax = ax.append(pd.Series({label: o}))\n",
      "/home/krasin/mambaforge/lib/python3.9/site-packages/fastai/torch_core.py:476: FutureWarning: The series.append method is deprecated and will be removed from pandas in a future version. Use pandas.concat instead.\n",
      "  ax = ax.append(pd.Series({label: o}))\n",
      "/home/krasin/mambaforge/lib/python3.9/site-packages/fastai/torch_core.py:476: FutureWarning: The series.append method is deprecated and will be removed from pandas in a future version. Use pandas.concat instead.\n",
      "  ax = ax.append(pd.Series({label: o}))\n",
      "/home/krasin/mambaforge/lib/python3.9/site-packages/fastai/torch_core.py:476: FutureWarning: The series.append method is deprecated and will be removed from pandas in a future version. Use pandas.concat instead.\n",
      "  ax = ax.append(pd.Series({label: o}))\n"
     ]
    },
    {
     "data": {
      "text/html": [
       "<table border=\"1\" class=\"dataframe\">\n",
       "  <thead>\n",
       "    <tr style=\"text-align: right;\">\n",
       "      <th></th>\n",
       "      <th>text</th>\n",
       "      <th>None</th>\n",
       "    </tr>\n",
       "  </thead>\n",
       "  <tbody>\n",
       "    <tr>\n",
       "      <th>0</th>\n",
       "      <td>xxbos xxmaj while northbound on taxiway xxup s ; i was cleared to xxmaj runway xxup xxl via xxup s ; xxup d ; xxup d10 ; xxup e. xxmaj the north half of xxrep 3 z seemed nearly xxunk of taxiing aircraft . xxmaj on xxup s ; i could see no one ahead of me or approaching from behind on d or xxup e. xxmaj as i turned onto d from s my path along d and e looked like it would be clear all the way to xxup xxl . xxmaj anything i saw looked far away from me . xxmaj the portion of e that i could see ahead of the xxup q400 left wing tip remained clear as i taxied east on xxup d. i turned onto xxup d10 and as the aircraft rotated so that i could see what was behind me past the</td>\n",
       "      <td>Company Policy;Human Factors</td>\n",
       "    </tr>\n",
       "    <tr>\n",
       "      <th>1</th>\n",
       "      <td>xxbos xxmaj it was bitter cold . xxmaj the flight was an extra section which had been added the night before to accommodate passengers delayed by a diverted flight and was flown by a reserve crew who had never met before . xxmaj the xxmaj captain drove in the night before ; rather than risk starting a car in the middle of the night in such cold ; but got little sleep in the xxunk sleep room . xxmaj the xxmaj first xxmaj officer was on reserve and had ferried the airplane in the previous day ; after spending most of that day working the mechanical . xxmaj she was thus able to explain the maintenance history to the xxmaj captain . a major hydraulic leak had been detected at the previous airport and required a pump replacement ; with all associated compounding problems of getting parts ; tools to</td>\n",
       "      <td>Aircraft;Human Factors;Procedure;Weather</td>\n",
       "    </tr>\n",
       "    <tr>\n",
       "      <th>2</th>\n",
       "      <td>xxbos xxmaj we diverted one hour into the fight with multiple failures . xxmaj at cruise at xxup fl340 we received numerous ecam 's in quick succession ; in addition to a hydraulic blue system low pressure xxup ecam . xxmaj with the xxmaj first xxmaj officer flying i declared an emergency with xxup atc and told them we were having electrical issues with the aircraft . xxmaj the xxmaj first xxmaj officer continued to fly and he worked the radio as well ; so i could run all the ecam 's / checklists / work with the cabin crew / xxmaj dispatch ; etc . xxmaj we were close to xxrep 3 z ( we were both familiar with the airport ; we were xxup vfr and could see the xxrep 3 z area ) the xxmaj first xxmaj officer and i decided to divert to xxrep 3 z</td>\n",
       "      <td>Aircraft</td>\n",
       "    </tr>\n",
       "  </tbody>\n",
       "</table>"
      ],
      "text/plain": [
       "<IPython.core.display.HTML object>"
      ]
     },
     "metadata": {},
     "output_type": "display_data"
    }
   ],
   "source": [
    "dls_clas.show_batch(max_n=3)"
   ]
  },
  {
   "cell_type": "code",
   "execution_count": 28,
   "metadata": {
    "id": "d0Ja8P9ZrEh-"
   },
   "outputs": [],
   "source": [
    "# data_clas.save('tmp_clas')"
   ]
  },
  {
   "cell_type": "code",
   "execution_count": 29,
   "metadata": {
    "id": "pfRBiyHmrEh-",
    "outputId": "03975320-9a5d-4941-c567-ae17725b2645"
   },
   "outputs": [
    {
     "data": {
      "text/plain": [
       "<fastai.text.learner.TextLearner at 0x7f0de7117100>"
      ]
     },
     "execution_count": 29,
     "metadata": {},
     "output_type": "execute_result"
    }
   ],
   "source": [
    "learn = text_classifier_learner(dls_clas, AWD_LSTM, drop_mult=0.5, \n",
    "                                metrics=[accuracy_multi, \n",
    "                                         PrecisionMulti(average='micro'), \n",
    "                                         RecallMulti(average='micro'), \n",
    "                                         F1ScoreMulti(average='micro')])\n",
    "\n",
    "learn.load_encoder('fine_tuned_enc') # should be in models directory, now it is in data/models because of the selected path data"
   ]
  },
  {
   "cell_type": "code",
   "execution_count": 30,
   "metadata": {
    "id": "iXfSleGTrEh-",
    "outputId": "20b800f1-79ba-4a9b-ec4c-fef914a1e07b"
   },
   "outputs": [
    {
     "data": {
      "text/html": [
       "\n",
       "<style>\n",
       "    /* Turns off some styling */\n",
       "    progress {\n",
       "        /* gets rid of default border in Firefox and Opera. */\n",
       "        border: none;\n",
       "        /* Needs to be in here for Safari polyfill so background images work as expected. */\n",
       "        background-size: auto;\n",
       "    }\n",
       "    .progress-bar-interrupted, .progress-bar-interrupted::-webkit-progress-bar {\n",
       "        background: #F44336;\n",
       "    }\n",
       "</style>\n"
      ],
      "text/plain": [
       "<IPython.core.display.HTML object>"
      ]
     },
     "metadata": {},
     "output_type": "display_data"
    },
    {
     "data": {
      "text/html": [
       "<table border=\"1\" class=\"dataframe\">\n",
       "  <thead>\n",
       "    <tr style=\"text-align: left;\">\n",
       "      <th>epoch</th>\n",
       "      <th>train_loss</th>\n",
       "      <th>valid_loss</th>\n",
       "      <th>accuracy_multi</th>\n",
       "      <th>precision_score</th>\n",
       "      <th>recall_score</th>\n",
       "      <th>f1_score</th>\n",
       "      <th>time</th>\n",
       "    </tr>\n",
       "  </thead>\n",
       "  <tbody>\n",
       "    <tr>\n",
       "      <td>0</td>\n",
       "      <td>0.264312</td>\n",
       "      <td>0.223132</td>\n",
       "      <td>0.907176</td>\n",
       "      <td>0.696003</td>\n",
       "      <td>0.547215</td>\n",
       "      <td>0.612705</td>\n",
       "      <td>00:26</td>\n",
       "    </tr>\n",
       "  </tbody>\n",
       "</table>"
      ],
      "text/plain": [
       "<IPython.core.display.HTML object>"
      ]
     },
     "metadata": {},
     "output_type": "display_data"
    }
   ],
   "source": [
    "# learn.freeze()\n",
    "learn.fit_one_cycle(1, 3e-2)"
   ]
  },
  {
   "cell_type": "code",
   "execution_count": 31,
   "metadata": {},
   "outputs": [
    {
     "data": {
      "text/plain": [
       "FlattenedLoss of BCEWithLogitsLoss()"
      ]
     },
     "execution_count": 31,
     "metadata": {},
     "output_type": "execute_result"
    }
   ],
   "source": [
    "learn.loss_func"
   ]
  },
  {
   "cell_type": "code",
   "execution_count": 32,
   "metadata": {
    "id": "irmGfXtbrEh_",
    "outputId": "e6b696d7-c12c-4dc3-9582-736b2a97262d"
   },
   "outputs": [
    {
     "data": {
      "text/plain": [
       "Path('models/first_factors.pth')"
      ]
     },
     "execution_count": 32,
     "metadata": {},
     "output_type": "execute_result"
    }
   ],
   "source": [
    "learn.save('first_factors') #"
   ]
  },
  {
   "cell_type": "code",
   "execution_count": 33,
   "metadata": {
    "id": "EqZdKXsIrEh_",
    "outputId": "4ceaea1f-5851-4db1-9c36-f65dc73c5841"
   },
   "outputs": [
    {
     "data": {
      "text/plain": [
       "<fastai.text.learner.TextLearner at 0x7f0de7117100>"
      ]
     },
     "execution_count": 33,
     "metadata": {},
     "output_type": "execute_result"
    }
   ],
   "source": [
    "learn.load('first_factors') #"
   ]
  },
  {
   "cell_type": "code",
   "execution_count": 34,
   "metadata": {
    "id": "3sYfkW0RrEh_",
    "outputId": "0a9f53b9-e90c-4813-ade3-f4cda543ffec"
   },
   "outputs": [
    {
     "data": {
      "text/html": [
       "\n",
       "<style>\n",
       "    /* Turns off some styling */\n",
       "    progress {\n",
       "        /* gets rid of default border in Firefox and Opera. */\n",
       "        border: none;\n",
       "        /* Needs to be in here for Safari polyfill so background images work as expected. */\n",
       "        background-size: auto;\n",
       "    }\n",
       "    .progress-bar-interrupted, .progress-bar-interrupted::-webkit-progress-bar {\n",
       "        background: #F44336;\n",
       "    }\n",
       "</style>\n"
      ],
      "text/plain": [
       "<IPython.core.display.HTML object>"
      ]
     },
     "metadata": {},
     "output_type": "display_data"
    },
    {
     "data": {
      "text/html": [
       "<table border=\"1\" class=\"dataframe\">\n",
       "  <thead>\n",
       "    <tr style=\"text-align: left;\">\n",
       "      <th>epoch</th>\n",
       "      <th>train_loss</th>\n",
       "      <th>valid_loss</th>\n",
       "      <th>accuracy_multi</th>\n",
       "      <th>precision_score</th>\n",
       "      <th>recall_score</th>\n",
       "      <th>f1_score</th>\n",
       "      <th>time</th>\n",
       "    </tr>\n",
       "  </thead>\n",
       "  <tbody>\n",
       "    <tr>\n",
       "      <td>0</td>\n",
       "      <td>0.220010</td>\n",
       "      <td>0.227243</td>\n",
       "      <td>0.904067</td>\n",
       "      <td>0.664952</td>\n",
       "      <td>0.574512</td>\n",
       "      <td>0.616433</td>\n",
       "      <td>00:31</td>\n",
       "    </tr>\n",
       "    <tr>\n",
       "      <td>1</td>\n",
       "      <td>0.203826</td>\n",
       "      <td>0.215365</td>\n",
       "      <td>0.910860</td>\n",
       "      <td>0.722491</td>\n",
       "      <td>0.544993</td>\n",
       "      <td>0.621314</td>\n",
       "      <td>00:31</td>\n",
       "    </tr>\n",
       "  </tbody>\n",
       "</table>"
      ],
      "text/plain": [
       "<IPython.core.display.HTML object>"
      ]
     },
     "metadata": {},
     "output_type": "display_data"
    }
   ],
   "source": [
    "learn.freeze_to(-2)\n",
    "learn.fit_one_cycle(2, slice(1e-2/(2.6**4),1e-2))"
   ]
  },
  {
   "cell_type": "code",
   "execution_count": 35,
   "metadata": {
    "id": "IPAI-81-rEiA",
    "outputId": "972f827b-ef8a-46b1-8d0d-865e83dc5490"
   },
   "outputs": [
    {
     "data": {
      "text/plain": [
       "Path('models/second_factors.pth')"
      ]
     },
     "execution_count": 35,
     "metadata": {},
     "output_type": "execute_result"
    }
   ],
   "source": [
    "learn.save('second_factors')"
   ]
  },
  {
   "cell_type": "code",
   "execution_count": 36,
   "metadata": {
    "id": "n1dPUdC7rEiA",
    "outputId": "93ca5c43-94ab-465d-b509-9d9576207c83"
   },
   "outputs": [
    {
     "data": {
      "text/plain": [
       "<fastai.text.learner.TextLearner at 0x7f0de7117100>"
      ]
     },
     "execution_count": 36,
     "metadata": {},
     "output_type": "execute_result"
    }
   ],
   "source": [
    "learn.load('second_factors')"
   ]
  },
  {
   "cell_type": "markdown",
   "metadata": {
    "id": "sy0czQKWrEiC"
   },
   "source": [
    "Classifier models *first_factors* and *second_factors* are saved in default `path/models` folder"
   ]
  },
  {
   "cell_type": "code",
   "execution_count": 37,
   "metadata": {
    "id": "LqPbd9f6rEiA",
    "outputId": "8e35994d-6aaf-4c25-cfa1-e14d5cdc8a15"
   },
   "outputs": [
    {
     "data": {
      "text/html": [
       "\n",
       "<style>\n",
       "    /* Turns off some styling */\n",
       "    progress {\n",
       "        /* gets rid of default border in Firefox and Opera. */\n",
       "        border: none;\n",
       "        /* Needs to be in here for Safari polyfill so background images work as expected. */\n",
       "        background-size: auto;\n",
       "    }\n",
       "    .progress-bar-interrupted, .progress-bar-interrupted::-webkit-progress-bar {\n",
       "        background: #F44336;\n",
       "    }\n",
       "</style>\n"
      ],
      "text/plain": [
       "<IPython.core.display.HTML object>"
      ]
     },
     "metadata": {},
     "output_type": "display_data"
    },
    {
     "data": {
      "text/html": [
       "<table border=\"1\" class=\"dataframe\">\n",
       "  <thead>\n",
       "    <tr style=\"text-align: left;\">\n",
       "      <th>epoch</th>\n",
       "      <th>train_loss</th>\n",
       "      <th>valid_loss</th>\n",
       "      <th>accuracy_multi</th>\n",
       "      <th>precision_score</th>\n",
       "      <th>recall_score</th>\n",
       "      <th>f1_score</th>\n",
       "      <th>time</th>\n",
       "    </tr>\n",
       "  </thead>\n",
       "  <tbody>\n",
       "    <tr>\n",
       "      <td>0</td>\n",
       "      <td>0.202145</td>\n",
       "      <td>0.216087</td>\n",
       "      <td>0.910094</td>\n",
       "      <td>0.696614</td>\n",
       "      <td>0.584510</td>\n",
       "      <td>0.635658</td>\n",
       "      <td>00:56</td>\n",
       "    </tr>\n",
       "    <tr>\n",
       "      <td>1</td>\n",
       "      <td>0.186370</td>\n",
       "      <td>0.212465</td>\n",
       "      <td>0.913139</td>\n",
       "      <td>0.716232</td>\n",
       "      <td>0.584034</td>\n",
       "      <td>0.643413</td>\n",
       "      <td>00:57</td>\n",
       "    </tr>\n",
       "  </tbody>\n",
       "</table>"
      ],
      "text/plain": [
       "<IPython.core.display.HTML object>"
      ]
     },
     "metadata": {},
     "output_type": "display_data"
    }
   ],
   "source": [
    "learn.unfreeze()\n",
    "learn.fit_one_cycle(2, slice(5e-3/(2.6**4),5e-3))"
   ]
  },
  {
   "cell_type": "code",
   "execution_count": 38,
   "metadata": {
    "id": "F4YBUAFrrEiA",
    "outputId": "d018fdf6-8300-4ea1-ec0b-556f4b9efd6b",
    "scrolled": false
   },
   "outputs": [
    {
     "data": {
      "text/html": [
       "\n",
       "<style>\n",
       "    /* Turns off some styling */\n",
       "    progress {\n",
       "        /* gets rid of default border in Firefox and Opera. */\n",
       "        border: none;\n",
       "        /* Needs to be in here for Safari polyfill so background images work as expected. */\n",
       "        background-size: auto;\n",
       "    }\n",
       "    .progress-bar-interrupted, .progress-bar-interrupted::-webkit-progress-bar {\n",
       "        background: #F44336;\n",
       "    }\n",
       "</style>\n"
      ],
      "text/plain": [
       "<IPython.core.display.HTML object>"
      ]
     },
     "metadata": {},
     "output_type": "display_data"
    },
    {
     "data": {
      "text/html": [],
      "text/plain": [
       "<IPython.core.display.HTML object>"
      ]
     },
     "metadata": {},
     "output_type": "display_data"
    }
   ],
   "source": [
    "# Predict on the validation dataset\n",
    "y_pred, y_true, losses =  learn.get_preds(with_loss=True)"
   ]
  },
  {
   "cell_type": "code",
   "execution_count": 39,
   "metadata": {
    "id": "YRhwzP69rEiB",
    "outputId": "6ab5afbd-5d04-41e8-bc3d-c18d6f0829db"
   },
   "outputs": [
    {
     "data": {
      "text/plain": [
       "(TensorText([[1.6641e-02, 8.0717e-01, 9.3305e-03,  ..., 3.9346e-01, 7.3236e-03,\n",
       "          3.0143e-02],\n",
       "         [8.6464e-03, 5.2843e-01, 6.9763e-02,  ..., 3.0543e-01, 7.0007e-03,\n",
       "          1.6333e-01],\n",
       "         [1.1516e-03, 2.0573e-01, 3.2644e-02,  ..., 1.9010e-01, 4.5803e-03,\n",
       "          9.9766e-01],\n",
       "         ...,\n",
       "         [1.3331e-03, 9.1261e-01, 1.1416e-02,  ..., 6.4131e-02, 3.3569e-03,\n",
       "          2.2702e-02],\n",
       "         [5.4888e-04, 8.5580e-01, 3.1094e-04,  ..., 6.4013e-01, 2.5252e-02,\n",
       "          4.1027e-03],\n",
       "         [7.6740e-05, 9.4237e-01, 1.7107e-04,  ..., 8.4347e-01, 2.7854e-02,\n",
       "          5.8000e-03]]),\n",
       " TensorMultiCategory([[0., 1., 0.,  ..., 0., 0., 0.],\n",
       "         [0., 1., 0.,  ..., 0., 0., 1.],\n",
       "         [0., 0., 1.,  ..., 0., 0., 0.],\n",
       "         ...,\n",
       "         [0., 1., 0.,  ..., 0., 0., 0.],\n",
       "         [0., 1., 0.,  ..., 0., 0., 0.],\n",
       "         [0., 1., 0.,  ..., 1., 0., 0.]]))"
      ]
     },
     "execution_count": 39,
     "metadata": {},
     "output_type": "execute_result"
    }
   ],
   "source": [
    "y_pred, y_true"
   ]
  },
  {
   "cell_type": "code",
   "execution_count": 40,
   "metadata": {
    "id": "6ZfqTNnerEiB"
   },
   "outputs": [],
   "source": [
    "interp = ClassificationInterpretation(learn, dls_clas.valid, losses)"
   ]
  },
  {
   "cell_type": "code",
   "execution_count": 41,
   "metadata": {
    "id": "_oNk22fIrEiB",
    "outputId": "b704fa5f-c2e6-42ff-d672-beb70a8b950b"
   },
   "outputs": [
    {
     "data": {
      "text/plain": [
       "['ATC Equipment / Nav Facility / Buildings', 'Aircraft', 'Airport', 'Airspace Structure', 'Chart Or Publication', 'Company Policy', 'Environment - Non Weather Related', 'Equipment / Tooling', 'Human Factors', 'Incorrect / Not Installed / Unavailable Part', 'Logbook Entry', 'MEL', 'Manuals', 'Procedure', 'Staffing', 'Weather']"
      ]
     },
     "execution_count": 41,
     "metadata": {},
     "output_type": "execute_result"
    }
   ],
   "source": [
    "interp.vocab"
   ]
  },
  {
   "cell_type": "code",
   "execution_count": 42,
   "metadata": {
    "id": "bcK-BsWOrEiC",
    "outputId": "85889a17-d67c-478c-fec5-8c0f1c9d76b1"
   },
   "outputs": [],
   "source": [
    "# interp.confusion_matrix() # not applicable for multilabel classification"
   ]
  },
  {
   "cell_type": "markdown",
   "metadata": {
    "id": "rePRwrRlrEiC"
   },
   "source": [
    "## Evaluate results"
   ]
  },
  {
   "cell_type": "code",
   "execution_count": 43,
   "metadata": {
    "id": "8T36aQDprEiC",
    "scrolled": false
   },
   "outputs": [],
   "source": [
    "from sklearn.metrics import precision_score, recall_score, accuracy_score, f1_score"
   ]
  },
  {
   "cell_type": "code",
   "execution_count": 44,
   "metadata": {
    "id": "L0DZqTtwrEiC"
   },
   "outputs": [],
   "source": [
    "from sklearn.metrics import classification_report"
   ]
  },
  {
   "cell_type": "code",
   "execution_count": 45,
   "metadata": {
    "id": "ZWuq65BrrEiF",
    "outputId": "eeebc39d-d5a8-49ea-ea4f-cd110ea95b97"
   },
   "outputs": [
    {
     "data": {
      "text/plain": [
       "0.658821731489264"
      ]
     },
     "execution_count": 45,
     "metadata": {},
     "output_type": "execute_result"
    }
   ],
   "source": [
    "f1_score(y_true, y_pred>0.35, average='micro')"
   ]
  },
  {
   "cell_type": "code",
   "execution_count": 46,
   "metadata": {
    "id": "HvTEplIarEiF"
   },
   "outputs": [],
   "source": [
    "y_true = y_true.numpy()\n",
    "scores = y_pred.numpy()"
   ]
  },
  {
   "cell_type": "code",
   "execution_count": 47,
   "metadata": {
    "id": "Cw50pFM6rEiF",
    "outputId": "b02a433f-5fdf-4010-84d3-0713b49c783a"
   },
   "outputs": [
    {
     "data": {
      "text/plain": [
       "((2935, 16), (2935, 16))"
      ]
     },
     "execution_count": 47,
     "metadata": {},
     "output_type": "execute_result"
    }
   ],
   "source": [
    "scores.shape, y_true.shape"
   ]
  },
  {
   "cell_type": "code",
   "execution_count": 48,
   "metadata": {
    "id": "HW1870TDrEiF",
    "outputId": "6ce43dec-8964-41a3-8bf9-31e043a81f7e"
   },
   "outputs": [
    {
     "data": {
      "text/plain": [
       "'Aircraft; Equipment / Tooling; Human Factors'"
      ]
     },
     "execution_count": 48,
     "metadata": {},
     "output_type": "execute_result"
    }
   ],
   "source": [
    "df.loc[0,'Contributing Factors / Situations']"
   ]
  },
  {
   "cell_type": "code",
   "execution_count": 50,
   "metadata": {
    "id": "Lh2Kf_TArEiG",
    "outputId": "8f0d4a93-9747-4d8a-ee8c-e4136c34c5d1"
   },
   "outputs": [
    {
     "name": "stdout",
     "output_type": "stream",
     "text": [
      "                                              precision    recall  f1-score   support\n",
      "\n",
      "    ATC Equipment / Nav Facility / Buildings       0.44      0.07      0.12        60\n",
      "                                    Aircraft       0.79      0.92      0.85      1635\n",
      "                                     Airport       0.53      0.43      0.48       212\n",
      "                          Airspace Structure       0.42      0.11      0.17        92\n",
      "                        Chart Or Publication       0.51      0.43      0.47       259\n",
      "                              Company Policy       0.69      0.41      0.51       624\n",
      "           Environment - Non Weather Related       0.30      0.17      0.22       238\n",
      "                         Equipment / Tooling       0.00      0.00      0.00        56\n",
      "                               Human Factors       0.73      0.86      0.79      1672\n",
      "Incorrect / Not Installed / Unavailable Part       0.29      0.08      0.13        71\n",
      "                               Logbook Entry       0.50      0.03      0.06        59\n",
      "                                         MEL       0.43      0.36      0.39        84\n",
      "                                     Manuals       0.50      0.32      0.39       163\n",
      "                                   Procedure       0.40      0.80      0.53       754\n",
      "                                    Staffing       0.38      0.06      0.10        52\n",
      "                                     Weather       0.58      0.58      0.58       270\n",
      "\n",
      "                                   micro avg       0.64      0.68      0.66      6301\n",
      "                                   macro avg       0.47      0.35      0.36      6301\n",
      "                                weighted avg       0.63      0.68      0.64      6301\n",
      "                                 samples avg       0.70      0.75      0.69      6301\n",
      "\n"
     ]
    },
    {
     "name": "stderr",
     "output_type": "stream",
     "text": [
      "/home/krasin/mambaforge/lib/python3.9/site-packages/sklearn/metrics/_classification.py:1327: UndefinedMetricWarning: Precision and F-score are ill-defined and being set to 0.0 in labels with no predicted samples. Use `zero_division` parameter to control this behavior.\n",
      "  _warn_prf(average, modifier, msg_start, len(result))\n",
      "/home/krasin/mambaforge/lib/python3.9/site-packages/sklearn/metrics/_classification.py:1327: UndefinedMetricWarning: Precision and F-score are ill-defined and being set to 0.0 in samples with no predicted labels. Use `zero_division` parameter to control this behavior.\n",
      "  _warn_prf(average, modifier, msg_start, len(result))\n"
     ]
    }
   ],
   "source": [
    "metrics = classification_report(y_true, scores>0.35, target_names=interp.vocab) #, target_names=dls_clas.valid_ds.classes\n",
    "print(metrics)"
   ]
  }
 ],
 "metadata": {
  "colab": {
   "collapsed_sections": [
    "rePRwrRlrEiC"
   ],
   "provenance": []
  },
  "kernelspec": {
   "display_name": "Python 3 (ipykernel)",
   "language": "python",
   "name": "python3"
  },
  "language_info": {
   "codemirror_mode": {
    "name": "ipython",
    "version": 3
   },
   "file_extension": ".py",
   "mimetype": "text/x-python",
   "name": "python",
   "nbconvert_exporter": "python",
   "pygments_lexer": "ipython3",
   "version": "3.9.13"
  },
  "toc": {
   "base_numbering": 1,
   "nav_menu": {},
   "number_sections": true,
   "sideBar": false,
   "skip_h1_title": false,
   "title_cell": "Table of Contents",
   "title_sidebar": "Contents",
   "toc_cell": false,
   "toc_position": {
    "height": "47.6875px",
    "left": "996px",
    "top": "111.125px",
    "width": "159px"
   },
   "toc_section_display": false,
   "toc_window_display": false
  }
 },
 "nbformat": 4,
 "nbformat_minor": 1
}
